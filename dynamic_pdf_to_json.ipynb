{
  "cells": [
    {
      "cell_type": "markdown",
      "metadata": {},
      "source": [
        "## SKU Price List Conversion: Dynamic PDF to JSON Parser\n",
        "\n",
        "This Jupyter Notebook, `dynamic_pdf_to_json.ipynb`, is designed to automate the process of converting SKU price lists from unstructured PDF format into structured JSON data. It dynamically processes selected pages from PDF documents, extracts SKU information using the Gemini Pro Vision model, and outputs the data as a series of JSON objects, optimizing for efficient data handling and analysis."
      ]
    },
    {
      "cell_type": "markdown",
      "metadata": {},
      "source": [
        "##### IMPORT LIBRARIES"
      ]
    },
    {
      "cell_type": "code",
      "execution_count": 1,
      "metadata": {
        "id": "t1O3Je_ENtpf"
      },
      "outputs": [],
      "source": [
        "import google.generativeai as genai\n",
        "import os\n",
        "from pdf2image import convert_from_path\n",
        "import json"
      ]
    },
    {
      "cell_type": "markdown",
      "metadata": {
        "id": "LWXvnZL8OHxy"
      },
      "source": [
        "##### SETUP API KEY"
      ]
    },
    {
      "cell_type": "code",
      "execution_count": 2,
      "metadata": {
        "id": "rHXNl6qnN3qO"
      },
      "outputs": [],
      "source": [
        "# Used to securely store your API key\n",
        "GOOGLE_API_KEY = \"your-api-key-here\"  # replace 'your-api-key-here' with your actual API key\n",
        "\n",
        "genai.configure(api_key=GOOGLE_API_KEY)"
      ]
    },
    {
      "cell_type": "markdown",
      "metadata": {
        "id": "Sbj_mjeyOAG1"
      },
      "source": [
        "##### MODEL LIST"
      ]
    },
    {
      "cell_type": "code",
      "execution_count": 3,
      "metadata": {
        "colab": {
          "base_uri": "https://localhost:8080/",
          "height": 52
        },
        "id": "GzWKJAOZN7Bt",
        "outputId": "dae637bc-e6f3-4519-820c-841dc0a71536"
      },
      "outputs": [
        {
          "name": "stdout",
          "output_type": "stream",
          "text": [
            "models/gemini-1.0-pro\n",
            "models/gemini-1.0-pro-001\n",
            "models/gemini-1.0-pro-latest\n",
            "models/gemini-1.0-pro-vision-latest\n",
            "models/gemini-pro\n",
            "models/gemini-pro-vision\n"
          ]
        }
      ],
      "source": [
        "for m in genai.list_models():\n",
        "  if 'generateContent' in m.supported_generation_methods:\n",
        "    print(m.name)"
      ]
    },
    {
      "cell_type": "markdown",
      "metadata": {},
      "source": [
        "##### LOAD MODEL WITH CONFIGS"
      ]
    },
    {
      "cell_type": "code",
      "execution_count": 4,
      "metadata": {
        "id": "sErUXoOIOMKs"
      },
      "outputs": [],
      "source": [
        "# Model Configuration\n",
        "MODEL_CONFIG = {\n",
        "  \"temperature\": 0.2,\n",
        "  \"top_p\": 1,\n",
        "  \"top_k\": 32,\n",
        "  \"max_output_tokens\": 4096,\n",
        "}\n",
        "\n",
        "## Safety Settings of Model\n",
        "safety_settings = [\n",
        "  {\n",
        "    \"category\": \"HARM_CATEGORY_HARASSMENT\",\n",
        "    \"threshold\": \"BLOCK_MEDIUM_AND_ABOVE\"\n",
        "  },\n",
        "  {\n",
        "    \"category\": \"HARM_CATEGORY_HATE_SPEECH\",\n",
        "    \"threshold\": \"BLOCK_MEDIUM_AND_ABOVE\"\n",
        "  },\n",
        "  {\n",
        "    \"category\": \"HARM_CATEGORY_SEXUALLY_EXPLICIT\",\n",
        "    \"threshold\": \"BLOCK_MEDIUM_AND_ABOVE\"\n",
        "  },\n",
        "  {\n",
        "    \"category\": \"HARM_CATEGORY_DANGEROUS_CONTENT\",\n",
        "    \"threshold\": \"BLOCK_MEDIUM_AND_ABOVE\"\n",
        "  }\n",
        "]"
      ]
    },
    {
      "cell_type": "code",
      "execution_count": 5,
      "metadata": {
        "id": "kDhL4GY1OuW_"
      },
      "outputs": [],
      "source": [
        "model = genai.GenerativeModel(model_name = \"gemini-pro-vision\",\n",
        "                              generation_config = MODEL_CONFIG,\n",
        "                              safety_settings = safety_settings)"
      ]
    },
    {
      "cell_type": "markdown",
      "metadata": {
        "id": "Stc93TB3Qzni"
      },
      "source": [
        "##### DEFINE IMAGE INPUT FORMAT"
      ]
    },
    {
      "cell_type": "code",
      "execution_count": 6,
      "metadata": {
        "id": "Eh_FdZ_nO2Xx"
      },
      "outputs": [],
      "source": [
        "from pathlib import Path\n",
        "\n",
        "def image_format(image_path):\n",
        "    img = Path(image_path)\n",
        "\n",
        "    if not img.exists():\n",
        "        raise FileNotFoundError(f\"Could not find image: {img}\")\n",
        "\n",
        "    image_parts = [\n",
        "        {\n",
        "            \"mime_type\": \"image/png\", ## Mime type are PNG - image/png. JPEG - image/jpeg. WEBP - image/webp\n",
        "            \"data\": img.read_bytes()\n",
        "        }\n",
        "    ]\n",
        "    return image_parts\n"
      ]
    },
    {
      "cell_type": "markdown",
      "metadata": {
        "id": "Xau7_2BuQ8ux"
      },
      "source": [
        "##### DEFINE GEMINI MODEL OUTPUT"
      ]
    },
    {
      "cell_type": "code",
      "execution_count": 7,
      "metadata": {
        "id": "gkDwnC9NQKSd"
      },
      "outputs": [],
      "source": [
        "def gemini_output(image_path, system_prompt, user_prompt):\n",
        "\n",
        "    image_info = image_format(image_path)\n",
        "    input_prompt= [system_prompt, image_info[0], user_prompt]\n",
        "    response = model.generate_content(input_prompt)\n",
        "    return response.text"
      ]
    },
    {
      "cell_type": "markdown",
      "metadata": {},
      "source": [
        "##### DEFINE PDF PATH & CREATE DIRECTORY"
      ]
    },
    {
      "cell_type": "code",
      "execution_count": 8,
      "metadata": {},
      "outputs": [],
      "source": [
        "pdf_path = \"pdfs/boundaried/sku_list_2.pdf\" ## Change PDF to parse\n",
        "pdf_name = os.path.splitext(os.path.basename(pdf_path))[0]\n",
        "os.makedirs(pdf_name, exist_ok=True)"
      ]
    },
    {
      "cell_type": "markdown",
      "metadata": {},
      "source": [
        "##### DEFINE PAGES TO PARSE"
      ]
    },
    {
      "cell_type": "code",
      "execution_count": 9,
      "metadata": {},
      "outputs": [],
      "source": [
        "images = convert_from_path(pdf_path, first_page=2, last_page=10) ## Set the exact pages to parse here"
      ]
    },
    {
      "cell_type": "markdown",
      "metadata": {},
      "source": [
        "##### DEFINE PROMPTS"
      ]
    },
    {
      "cell_type": "code",
      "execution_count": 10,
      "metadata": {},
      "outputs": [],
      "source": [
        "system_prompt = \"\"\"\n",
        "As an expert in analyzing price lists, your role involves processing images containing SKU price lists. Your objective is to transform these images into a collection of JSON objects, where each object encapsulates details of an individual SKU. Each JSON must include the following attributes: 'ID' (refer to this as Model Number or IDH No), 'Title' (equivalent to Model Category), 'Description' (or Model Name/Product Description), 'Price' (known as MRP/Cost), and 'Pack Size' (referred to as Pack/Unit). Ensure the values for these attributes accurately reflect the data presented in the tables. The final output should be in JSON format, directly representing the extracted data without converting it into a string.\n",
        "\"\"\"\n",
        "\n",
        "user_prompt = \"\"\"   \n",
        "Carefully examine the entire image, focusing on the PriceList data. Extract information for 10 unique SKUs present and organize it into JSON format. Each JSON object must include the following fields with their respective values derived from the data: 'ID' (also known as Model Number), 'Title' (also known as Model Category), 'Description' (also known as Model Name/Description), 'Price' (also known as MRP/Cost), and 'Pack Size' (including units like Pack, Unit, Ml, Kg). Ensure each field's values are closely matched to the data within the tables. Output should be in JSON format without including the term 'SKUs' within the objects. Avoid using triple backticks (```) at the start or end of your response. Prioritize extracting SKUs with distinct 'ID's, if such uniqueness is depicted in the input image.\n",
        "\"\"\""
      ]
    },
    {
      "cell_type": "markdown",
      "metadata": {},
      "source": [
        "##### PROCESS IMAGES & GENERATE JSON OUTPUTS"
      ]
    },
    {
      "cell_type": "code",
      "execution_count": 11,
      "metadata": {},
      "outputs": [],
      "source": [
        "all_json_outputs = [] \n",
        "\n",
        "for i, image in enumerate(images):\n",
        "    image_path = os.path.join(pdf_name, f\"output_image_{i}.png\")\n",
        "    image.save(image_path, \"PNG\")\n",
        "\n",
        "    response_text = gemini_output(image_path, system_prompt, user_prompt)\n",
        "\n",
        "    try:\n",
        "        json_output = json.loads(response_text)\n",
        "        all_json_outputs.extend(json_output)\n",
        "    except json.JSONDecodeError:\n",
        "        print(f\"Failed to parse JSON for image {i}. Response was: {response_text}\")\n",
        "        continue"
      ]
    },
    {
      "cell_type": "markdown",
      "metadata": {},
      "source": [
        "##### SAVE ALL JSON OUTPUTS"
      ]
    },
    {
      "cell_type": "code",
      "execution_count": 12,
      "metadata": {},
      "outputs": [
        {
          "name": "stdout",
          "output_type": "stream",
          "text": [
            "Final JSON saved to: sku_list_2/sku_list_2.json.\n"
          ]
        }
      ],
      "source": [
        "final_json_path = os.path.join(pdf_name, f\"{pdf_name}.json\")\n",
        "with open(final_json_path, 'w') as f:\n",
        "    json.dump(all_json_outputs, f)\n",
        "\n",
        "print(f\"Final JSON saved to: {final_json_path}.\")"
      ]
    }
  ],
  "metadata": {
    "colab": {
      "provenance": []
    },
    "kernelspec": {
      "display_name": "Python 3",
      "name": "python3"
    },
    "language_info": {
      "codemirror_mode": {
        "name": "ipython",
        "version": 3
      },
      "file_extension": ".py",
      "mimetype": "text/x-python",
      "name": "python",
      "nbconvert_exporter": "python",
      "pygments_lexer": "ipython3",
      "version": "3.10.12"
    }
  },
  "nbformat": 4,
  "nbformat_minor": 0
}
